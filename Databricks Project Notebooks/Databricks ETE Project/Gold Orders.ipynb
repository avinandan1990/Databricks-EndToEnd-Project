{
 "cells": [
  {
   "cell_type": "markdown",
   "metadata": {
    "application/vnd.databricks.v1+cell": {
     "cellMetadata": {},
     "inputWidgets": {},
     "nuid": "a27a4e45-f4aa-4ff5-91f0-01950e624283",
     "showTitle": false,
     "tableResultSettingsMap": {},
     "title": ""
    }
   },
   "source": [
    "### **Fact Orders**"
   ]
  },
  {
   "cell_type": "markdown",
   "metadata": {
    "application/vnd.databricks.v1+cell": {
     "cellMetadata": {},
     "inputWidgets": {},
     "nuid": "a8c4182d-97ef-47d0-bd39-10030244bb16",
     "showTitle": false,
     "tableResultSettingsMap": {},
     "title": ""
    }
   },
   "source": [
    "### Data Reading"
   ]
  },
  {
   "cell_type": "code",
   "execution_count": 0,
   "metadata": {
    "application/vnd.databricks.v1+cell": {
     "cellMetadata": {},
     "inputWidgets": {},
     "nuid": "bd6315fb-1fb8-458d-8516-67e26a604c17",
     "showTitle": false,
     "tableResultSettingsMap": {},
     "title": ""
    }
   },
   "outputs": [],
   "source": [
    "df= spark.sql(\"select * from databrciks_catalog.silver.orders_silver\")\n",
    "df.display()"
   ]
  },
  {
   "cell_type": "code",
   "execution_count": 0,
   "metadata": {
    "application/vnd.databricks.v1+cell": {
     "cellMetadata": {},
     "inputWidgets": {},
     "nuid": "918e5dad-9c95-400b-bae1-490def173b8e",
     "showTitle": false,
     "tableResultSettingsMap": {},
     "title": ""
    }
   },
   "outputs": [],
   "source": [
    "df_dimcustomer = spark.sql(\"select DimCustomerKey,customer_id as dim_customer_id from databrciks_catalog.gold.dimcustomers\")\n",
    "df_dimproducts = spark.sql(\"select product_id as DimProductKey,product_id as dim_product_id from databrciks_catalog.gold.dimproducts\")"
   ]
  },
  {
   "cell_type": "markdown",
   "metadata": {
    "application/vnd.databricks.v1+cell": {
     "cellMetadata": {},
     "inputWidgets": {},
     "nuid": "91b774f6-6825-4f02-a10f-d8264a5ba1e9",
     "showTitle": false,
     "tableResultSettingsMap": {},
     "title": ""
    }
   },
   "source": [
    "### Fact Dataframe"
   ]
  },
  {
   "cell_type": "code",
   "execution_count": 0,
   "metadata": {
    "application/vnd.databricks.v1+cell": {
     "cellMetadata": {},
     "inputWidgets": {},
     "nuid": "c2382617-ea2e-4d61-838a-e3cd10f1bad4",
     "showTitle": false,
     "tableResultSettingsMap": {},
     "title": ""
    }
   },
   "outputs": [],
   "source": [
    "df_fact = df.join(df_dimcustomer,df['customer_id'] == df_dimcustomer['dim_customer_id'],how = 'left').join(df_dimproducts,df['product_id'] == df_dimproducts['dim_product_id'],how = 'left')\n",
    "\n",
    "df_fact_new = df_fact.drop('dim_customer_id','dim_product_id','customer_id','product_id')"
   ]
  },
  {
   "cell_type": "markdown",
   "metadata": {
    "application/vnd.databricks.v1+cell": {
     "cellMetadata": {},
     "inputWidgets": {},
     "nuid": "28e57aca-b5ee-47be-a3ec-856c18d63836",
     "showTitle": false,
     "tableResultSettingsMap": {},
     "title": ""
    }
   },
   "source": [
    "### Upsert On Fact"
   ]
  },
  {
   "cell_type": "code",
   "execution_count": 0,
   "metadata": {
    "application/vnd.databricks.v1+cell": {
     "cellMetadata": {},
     "inputWidgets": {},
     "nuid": "b3f1c244-b398-429b-9133-f3145d40181d",
     "showTitle": false,
     "tableResultSettingsMap": {},
     "title": ""
    }
   },
   "outputs": [],
   "source": [
    "from delta.tables import DeltaTable"
   ]
  },
  {
   "cell_type": "code",
   "execution_count": 0,
   "metadata": {
    "application/vnd.databricks.v1+cell": {
     "cellMetadata": {},
     "inputWidgets": {},
     "nuid": "4cebfc66-bc4c-4a74-9bf9-3a44ef10530c",
     "showTitle": false,
     "tableResultSettingsMap": {},
     "title": ""
    }
   },
   "outputs": [],
   "source": [
    "if spark.catalog.tableExists(\"databrciks_catalog.gold.FactOrders\"):\n",
    "\n",
    "    dlt_obj = DeltaTable.forName(spark, \"databrciks_catalog.gold.FactOrders\")\n",
    "\n",
    "    dlt_obj.alias(\"trigger\").merge(df_fact_new.alias(\"source\"),\"trigger.order_id = source.order_id AND trigger.DimCustomerKey = source.DimCustomerKey AND trigger.DimProductKey = source.DimProductKey\"\n",
    "    )\\\n",
    "    .whenMatchedUpdateAll()\\\n",
    "    .whenNotMatchedInsertAll()\\\n",
    "    .execute()\n",
    "\n",
    "else:\n",
    "    df_fact_new.write.format(\"delta\")\\\n",
    "        .option(\"path\", \"abfss://gold@avidatabricksete.dfs.core.windows.net/FactOrders\")\\\n",
    "        .saveAsTable(\"databricks_cata.gold.FactOrders\")\n"
   ]
  }
 ],
 "metadata": {
  "application/vnd.databricks.v1+notebook": {
   "computePreferences": null,
   "dashboards": [],
   "environmentMetadata": {
    "base_environment": "",
    "environment_version": "2"
   },
   "inputWidgetPreferences": null,
   "language": "python",
   "notebookMetadata": {
    "pythonIndentUnit": 4
   },
   "notebookName": "Gold Orders",
   "widgets": {}
  },
  "language_info": {
   "name": "python"
  }
 },
 "nbformat": 4,
 "nbformat_minor": 0
}
